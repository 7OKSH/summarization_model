{
  "nbformat": 4,
  "nbformat_minor": 0,
  "metadata": {
    "colab": {
      "provenance": []
    },
    "kernelspec": {
      "name": "python3",
      "display_name": "Python 3"
    },
    "language_info": {
      "name": "python"
    }
  },
  "cells": [
    {
      "cell_type": "markdown",
      "source": [
        "# Data Cleaning Using Regex"
      ],
      "metadata": {
        "id": "jZOfwFoKJhoD"
      }
    },
    {
      "cell_type": "code",
      "source": [
        "import re\n",
        "\n",
        "def clean_and_minimize(text):\n",
        "    # Define a regex pattern to remove non-alphanumeric characters and extra spaces\n",
        "    cleaned_text = re.sub(r'[^a-zA-Z0-9\\s]', '', text)\n",
        "    cleaned_text = re.sub(r'\\s+', ' ', cleaned_text)  # Remove extra spaces\n",
        "    return cleaned_text\n",
        "\n",
        "\n",
        "# Read the original text\n",
        "with open('Ch1-LEC-1_Introduction.txt', \"r\") as file:\n",
        "    original_text = file.read()\n",
        "\n",
        "# Calculate and print the length of the original text\n",
        "\n",
        "original_text_length = len(original_text)\n",
        "print(\"Original Text Length:\", original_text_length)\n",
        "\n",
        "\n",
        "# Clean and minimize the text using regex\n",
        "cleaned_text = clean_and_minimize(original_text)\n",
        "\n",
        "# Calculate and print the length of the cleaned text\n",
        "cleaned_text_length = len(cleaned_text)\n",
        "print(\"Cleaned Text Length:\", cleaned_text_length)\n",
        "\n",
        "# Save cleaned text to a text file\n",
        "text_filename = 'Ch1_cleaned.txt'\n",
        "with open(text_filename, 'w') as text_file:\n",
        "    text_file.write(cleaned_text)\n",
        "\n",
        "print(f\"Cleaned text saved to {text_filename}\")"
      ],
      "metadata": {
        "colab": {
          "base_uri": "https://localhost:8080/"
        },
        "id": "1gL6c6CRA0rR",
        "outputId": "123c4a37-fc4f-4529-8a72-518dc2b43ad8"
      },
      "execution_count": 6,
      "outputs": [
        {
          "output_type": "stream",
          "name": "stdout",
          "text": [
            "Original Text Length: 16015\n",
            "Cleaned Text Length: 12022\n",
            "Cleaned text saved to Ch1_cleaned.txt\n"
          ]
        }
      ]
    },
    {
      "cell_type": "markdown",
      "source": [
        "# Summarization Model"
      ],
      "metadata": {
        "id": "F0GcyrANJp7Q"
      }
    },
    {
      "cell_type": "code",
      "source": [
        "from transformers import pipeline\n",
        "\n",
        "# Load the summarization pipeline\n",
        "summarizer = pipeline(\"summarization\", model=\"facebook/bart-large-cnn\", tokenizer=\"facebook/bart-large-cnn\")\n",
        "\n",
        "# Read the text from the file\n",
        "file_path = 'Ch1_cleaned.txt'\n",
        "with open(file_path, 'r') as file:\n",
        "    input_text = file.read()\n",
        "\n",
        "# Split the text into chunks (you can adjust the chunk size)\n",
        "chunk_size = 1000\n",
        "chunks = [input_text[i:i+chunk_size] for i in range(0, len(input_text), chunk_size)]\n",
        "\n",
        "# Generate summaries for each chunk\n",
        "summaries = []\n",
        "for chunk in chunks:\n",
        "    summary = summarizer(chunk, max_length=512, min_length=30, length_penalty=2.0, num_beams=4, early_stopping=True)\n",
        "    summaries.append(summary[0]['summary_text'])\n",
        "\n",
        "# Combine the summaries into a final summary\n",
        "final_summary = \" \".join(summaries)\n",
        "\n",
        "# Print the original text and final summary\n",
        "print(\"\\nGenerated Summary:\")\n",
        "print(final_summary)"
      ],
      "metadata": {
        "colab": {
          "base_uri": "https://localhost:8080/"
        },
        "id": "e7bb9Gc_BWr6",
        "outputId": "b94af7f4-e4c4-4bb5-cd8a-50707dff79e1"
      },
      "execution_count": 8,
      "outputs": [
        {
          "output_type": "stream",
          "name": "stderr",
          "text": [
            "Your max_length is set to 512, but your input_length is only 153. Since this is a summarization task, where outputs shorter than the input are typically wanted, you might consider decreasing max_length manually, e.g. summarizer('...', max_length=76)\n",
            "Your max_length is set to 512, but your input_length is only 147. Since this is a summarization task, where outputs shorter than the input are typically wanted, you might consider decreasing max_length manually, e.g. summarizer('...', max_length=73)\n",
            "Your max_length is set to 512, but your input_length is only 146. Since this is a summarization task, where outputs shorter than the input are typically wanted, you might consider decreasing max_length manually, e.g. summarizer('...', max_length=73)\n",
            "Your max_length is set to 512, but your input_length is only 159. Since this is a summarization task, where outputs shorter than the input are typically wanted, you might consider decreasing max_length manually, e.g. summarizer('...', max_length=79)\n",
            "Your max_length is set to 512, but your input_length is only 166. Since this is a summarization task, where outputs shorter than the input are typically wanted, you might consider decreasing max_length manually, e.g. summarizer('...', max_length=83)\n",
            "Your max_length is set to 512, but your input_length is only 158. Since this is a summarization task, where outputs shorter than the input are typically wanted, you might consider decreasing max_length manually, e.g. summarizer('...', max_length=79)\n",
            "Your max_length is set to 512, but your input_length is only 158. Since this is a summarization task, where outputs shorter than the input are typically wanted, you might consider decreasing max_length manually, e.g. summarizer('...', max_length=79)\n",
            "Your max_length is set to 512, but your input_length is only 162. Since this is a summarization task, where outputs shorter than the input are typically wanted, you might consider decreasing max_length manually, e.g. summarizer('...', max_length=81)\n",
            "Your max_length is set to 512, but your input_length is only 158. Since this is a summarization task, where outputs shorter than the input are typically wanted, you might consider decreasing max_length manually, e.g. summarizer('...', max_length=79)\n",
            "Your max_length is set to 512, but your input_length is only 153. Since this is a summarization task, where outputs shorter than the input are typically wanted, you might consider decreasing max_length manually, e.g. summarizer('...', max_length=76)\n",
            "Your max_length is set to 512, but your input_length is only 156. Since this is a summarization task, where outputs shorter than the input are typically wanted, you might consider decreasing max_length manually, e.g. summarizer('...', max_length=78)\n",
            "Your max_length is set to 512, but your input_length is only 155. Since this is a summarization task, where outputs shorter than the input are typically wanted, you might consider decreasing max_length manually, e.g. summarizer('...', max_length=77)\n",
            "Your max_length is set to 512, but your input_length is only 7. Since this is a summarization task, where outputs shorter than the input are typically wanted, you might consider decreasing max_length manually, e.g. summarizer('...', max_length=3)\n"
          ]
        },
        {
          "output_type": "stream",
          "name": "stdout",
          "text": [
            "\n",
            "Generated Summary:\n",
            "Software engineering is concerned with theories methods and tools for professional software development. Software engineering involves wider responsibilities than simply the application of technical skills. The economies of all developed nations are dependent on software. Software engineering is an engineering discipline that is concerned with all aspects of software production. Good software should deliver the required functionality and performance to the user and should be maintainable dependable and usable. Software engineering is concerned with the practicalities of developing and delivering useful software. Software engineering is part of the more general process of computerbased systems development. All software projects have to be professionally managed and developed different techniques are appropriate for different types of system. The web has led to the availability of software services and the possibility of developing highly distributed servicebased systems. Software costs often dominate computer system costs. Software engineering is concerned with cost effective software development. For systems with a long life maintenance costs may be several times development costs. Maintainability Software should be written in such a way so that it can evolve to meet the changing needs of customers. Dependable software should not cause physical or economic damage in the event of system failure. Software must be acceptable to the type of users for which it is designed. alicious users should not be able to access or damage the system. Software should not make wasteful use of system resources. There are many different types of software system and there is no universal set of software techniques that is applicable to all of these. Standalone applications are application systems that run on a local computer such as a P. Batch processing systems are business systems designed to process data in large batches. Embedded control systems are software control systems that control and manage hardware devices. There are probably more embedded systems than any other type of system.  objects ate interacting objects Chapter 1 Introduction 18 19 Application types Data collection systems These are systems that collect data from their environment using a set of sensors and send that data to other systems.  e Web is now a platform for running application and organizations are increasingly developing webbased systems. Web services allow application functionality to be accessed over the web. Cloud computing is an approach to the provision of computer services where applications run remotely on the cloud. Software engineering is an engineering discipline that is concerned with all aspects of software production. Essential software product attributes are maintainability dependability and security efficiency and acceptability. The ideas of software engineering are universally applicable to all types of system development. 25. ter 1 Introduction 25. ter 2. ter 3. ter 4. ter 5. ter 6. ter 7. ter 8. ter 9. ter 10. ter 11. ter 12. ter 13. ter 14. ter 15. ter 16. ter 17. ter 18. ter 19. ter 20. ter 21. ter 22. ter 23. ter 24.\n"
          ]
        }
      ]
    },
    {
      "cell_type": "code",
      "source": [
        "print(len(final_summary))"
      ],
      "metadata": {
        "colab": {
          "base_uri": "https://localhost:8080/"
        },
        "id": "aLdiQ4VMIlme",
        "outputId": "d4692083-c571-4a6b-f651-55df115c1ac1"
      },
      "execution_count": 9,
      "outputs": [
        {
          "output_type": "stream",
          "name": "stdout",
          "text": [
            "3152\n"
          ]
        }
      ]
    }
  ]
}